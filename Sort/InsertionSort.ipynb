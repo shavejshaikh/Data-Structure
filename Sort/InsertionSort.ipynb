{
 "cells": [
  {
   "cell_type": "code",
   "execution_count": 1,
   "metadata": {},
   "outputs": [
    {
     "name": "stdout",
     "output_type": "stream",
     "text": [
      "[2, 7, 9, 11, 15, 28, 29]\n"
     ]
    }
   ],
   "source": [
    "def insertionsort(lists):\n",
    "    for i in range(1,len(lists)):\n",
    "        anchor = lists[i]\n",
    "        j = i-1\n",
    "        while(j >=0 and lists[j] > anchor):\n",
    "            lists[j+1] = lists[j]\n",
    "            j= j-1\n",
    "        lists[j+1] = anchor\n",
    "    return lists\n",
    "\n",
    "lists = [11,9,29,7,2,15,28]\n",
    "print(insertionsort(lists))"
   ]
  }
 ],
 "metadata": {
  "kernelspec": {
   "display_name": "Python 3",
   "language": "python",
   "name": "python3"
  },
  "language_info": {
   "codemirror_mode": {
    "name": "ipython",
    "version": 3
   },
   "file_extension": ".py",
   "mimetype": "text/x-python",
   "name": "python",
   "nbconvert_exporter": "python",
   "pygments_lexer": "ipython3",
   "version": "3.7.2"
  }
 },
 "nbformat": 4,
 "nbformat_minor": 4
}
