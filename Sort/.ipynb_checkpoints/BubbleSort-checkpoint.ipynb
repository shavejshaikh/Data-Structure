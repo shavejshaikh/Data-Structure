{
 "cells": [
  {
   "cell_type": "code",
   "execution_count": 1,
   "metadata": {},
   "outputs": [
    {
     "name": "stdout",
     "output_type": "stream",
     "text": [
      "[2, 36, 54, 65, 98]\n",
      "[98, 65, 54, 36, 2]\n",
      "[2, 4, 10, 87, 90]\n",
      "[90, 87, 10, 4, 2]\n",
      "[0, 1, 1, 6, 8, 87]\n",
      "[87, 8, 6, 1, 1, 0]\n"
     ]
    }
   ],
   "source": [
    "def AscBubbleSort(x):\n",
    "    for i in range(0,len(x)-1):\n",
    "        for j in range(0,len(x)-i-1):\n",
    "            if x[j] > x[j+1]:\n",
    "                x[j],x[j+1] = x[j+1],x[j]\n",
    "    return x\n",
    "\n",
    "def DscBubbleSort(x):\n",
    "    for i in range(0,len(x)-1):\n",
    "        for j in range(0,len(x)-i-1):\n",
    "            if x[j] < x[j+1]:\n",
    "                x[j],x[j+1] = x[j+1],x[j]\n",
    "    return x\n",
    "\n",
    "x= [ [98,65,2,54,36], [10,4,2,87,90],[0,87,1,6,8,1]]\n",
    "for i in x:\n",
    "    print(AscBubbleSort(i))\n",
    "    print(DscBubbleSort(i))\n",
    "    print(\"\\n\")"
   ]
  },
  {
   "cell_type": "code",
   "execution_count": null,
   "metadata": {},
   "outputs": [],
   "source": []
  }
 ],
 "metadata": {
  "kernelspec": {
   "display_name": "Python 3",
   "language": "python",
   "name": "python3"
  },
  "language_info": {
   "codemirror_mode": {
    "name": "ipython",
    "version": 3
   },
   "file_extension": ".py",
   "mimetype": "text/x-python",
   "name": "python",
   "nbconvert_exporter": "python",
   "pygments_lexer": "ipython3",
   "version": "3.7.2"
  }
 },
 "nbformat": 4,
 "nbformat_minor": 4
}
