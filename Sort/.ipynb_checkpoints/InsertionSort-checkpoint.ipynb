{
 "cells": [
  {
   "cell_type": "code",
   "execution_count": 30,
   "metadata": {},
   "outputs": [
    {
     "name": "stdout",
     "output_type": "stream",
     "text": [
      "[11, 9, 29, 7, 2, 15, 28]\n",
      "1 } 0  11  9\n",
      "--> [9, 11, 29, 7, 2, 15, 28]\n",
      "2 } 1  11  29\n",
      "--> [9, 11, 29, 7, 2, 15, 28]\n",
      "3 } 2  29  7\n",
      "--> [7, 9, 11, 29, 2, 15, 28]\n",
      "4 } 3  29  2\n",
      "--> [2, 7, 9, 11, 29, 15, 28]\n",
      "5 } 4  29  15\n",
      "--> [2, 7, 9, 11, 15, 29, 28]\n",
      "6 } 5  29  28\n",
      "--> [2, 7, 9, 11, 15, 28, 29]\n",
      "[2, 7, 9, 11, 15, 28, 29]\n"
     ]
    }
   ],
   "source": [
    "def insertionsort(lists):\n",
    "    print(lists)\n",
    "    for i in range(1,len(lists)):\n",
    "        anchor = lists[i]\n",
    "        j = i-1\n",
    "        print(i,\"}\",j,\"\",lists[j],\"\",anchor)\n",
    "        while(j >=0 and lists[j] > anchor):\n",
    "            lists[j+1] = lists[j]\n",
    "            j= j-1\n",
    "        lists[j+1] = anchor\n",
    "        print(\"-->\",lists)\n",
    "    return lists\n",
    "\n",
    "lists = [11,9,29,7,2,15,28]\n",
    "print(insertionsort(lists))"
   ]
  },
  {
   "cell_type": "code",
   "execution_count": null,
   "metadata": {},
   "outputs": [],
   "source": []
  }
 ],
 "metadata": {
  "kernelspec": {
   "display_name": "Python 3",
   "language": "python",
   "name": "python3"
  },
  "language_info": {
   "codemirror_mode": {
    "name": "ipython",
    "version": 3
   },
   "file_extension": ".py",
   "mimetype": "text/x-python",
   "name": "python",
   "nbconvert_exporter": "python",
   "pygments_lexer": "ipython3",
   "version": "3.7.2"
  }
 },
 "nbformat": 4,
 "nbformat_minor": 4
}
