{
 "cells": [
  {
   "cell_type": "code",
   "execution_count": 6,
   "metadata": {},
   "outputs": [
    {
     "name": "stdout",
     "output_type": "stream",
     "text": [
      "Left is:\t [20]\n",
      "Right is :\t [2]\n",
      "Left is:\t [55]\n",
      "Right is :\t [66]\n",
      "Left is:\t [2, 20]\n",
      "Right is :\t [55, 66]\n",
      "Left is:\t [8]\n",
      "Right is :\t [10]\n",
      "Left is:\t [12]\n",
      "Right is :\t [46]\n",
      "Left is:\t [8, 10]\n",
      "Right is :\t [12, 46]\n",
      "Left is:\t [2, 20, 55, 66]\n",
      "Right is :\t [8, 10, 12, 46]\n",
      "[2, 8, 10, 12, 20, 46, 55, 66]\n"
     ]
    }
   ],
   "source": [
    "def merge_list(lists):\n",
    "    if len(lists) <=1:\n",
    "        return lists\n",
    "    mid   = len(lists)//2\n",
    "    \n",
    "    left  = lists[:mid]\n",
    "    right = lists[mid:]\n",
    "    left  = merge_list(left)\n",
    "    right = merge_list(right)\n",
    "    return Merge_sort_list(left,right)\n",
    "    \n",
    "def Merge_sort_list(list1,list2):\n",
    "    i=j=0\n",
    "    sortedlist = []\n",
    "    \n",
    "    while i < len(list1) and j < len(list2):\n",
    "        if list1[i] <= list2[j]:\n",
    "            sortedlist.append(list1[i])\n",
    "            i=i+1\n",
    "        else:\n",
    "            sortedlist.append(list2[j])\n",
    "            j=j+1\n",
    "        \n",
    "    while i < len(list1):\n",
    "        sortedlist.append(list1[i])\n",
    "        i=i+1\n",
    "    \n",
    "    while j < len(list2):\n",
    "        sortedlist.append(list2[j])\n",
    "        j=j+1\n",
    "    return sortedlist\n",
    "                \n",
    "list1 = [20,2,55,66,8,10,12,46]\n",
    "\n",
    "print(merge_list(list1))"
   ]
  },
  {
   "cell_type": "code",
   "execution_count": null,
   "metadata": {},
   "outputs": [],
   "source": []
  }
 ],
 "metadata": {
  "kernelspec": {
   "display_name": "Python 3",
   "language": "python",
   "name": "python3"
  },
  "language_info": {
   "codemirror_mode": {
    "name": "ipython",
    "version": 3
   },
   "file_extension": ".py",
   "mimetype": "text/x-python",
   "name": "python",
   "nbconvert_exporter": "python",
   "pygments_lexer": "ipython3",
   "version": "3.7.2"
  }
 },
 "nbformat": 4,
 "nbformat_minor": 4
}
