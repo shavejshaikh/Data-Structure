{
 "cells": [
  {
   "cell_type": "code",
   "execution_count": 1,
   "metadata": {},
   "outputs": [
    {
     "name": "stdout",
     "output_type": "stream",
     "text": [
      "[2, 3, 5, 6, 7, 8]\n",
      "[1, 2, 3, 4, 5, 6, 7, 8, 8]\n",
      "[1, 2, 3, 4]\n",
      "[]\n"
     ]
    }
   ],
   "source": [
    "def SelectionSort(x):\n",
    "    for i in range(len(x)-1):\n",
    "        min = i\n",
    "        for j in range(i,len(x)):\n",
    "            if x[j] < x[min]:\n",
    "                min = j\n",
    "        x[i],x[min] = x[min],x[i]\n",
    "    return x\n",
    "    \n",
    "x= [ [5,3,8,6,7,2],\n",
    "     [8,7,6,5,4,3,2,1,8],\n",
    "     [1,2,3,4],\n",
    "     [] ]\n",
    "for i in x:\n",
    "    print(SelectionSort(i))"
   ]
  }
 ],
 "metadata": {
  "kernelspec": {
   "display_name": "Python 3",
   "language": "python",
   "name": "python3"
  },
  "language_info": {
   "codemirror_mode": {
    "name": "ipython",
    "version": 3
   },
   "file_extension": ".py",
   "mimetype": "text/x-python",
   "name": "python",
   "nbconvert_exporter": "python",
   "pygments_lexer": "ipython3",
   "version": "3.7.2"
  }
 },
 "nbformat": 4,
 "nbformat_minor": 4
}
