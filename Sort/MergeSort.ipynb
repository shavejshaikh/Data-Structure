{
 "cells": [
  {
   "cell_type": "code",
   "execution_count": 1,
   "metadata": {},
   "outputs": [
    {
     "name": "stdout",
     "output_type": "stream",
     "text": [
      "[2, 8, 10, 12, 20, 46, 55, 66]\n",
      "[3, 5, 5, 5, 8, 9, 9, 10, 20, 84]\n",
      "[0, 1, 2, 3, 6, 7, 7]\n",
      "[]\n"
     ]
    }
   ],
   "source": [
    "def merge_list(lists):\n",
    "    if len(lists) <=1:\n",
    "        return lists\n",
    "    mid   = len(lists)//2\n",
    "    \n",
    "    left  = lists[:mid]\n",
    "    right = lists[mid:]\n",
    "    left  = merge_list(left)\n",
    "    right = merge_list(right)\n",
    "    return Merge_sort_list(left,right)\n",
    "    \n",
    "def Merge_sort_list(list1,list2):\n",
    "    i=j=0\n",
    "    sortedlist = []\n",
    "    \n",
    "    while i < len(list1) and j < len(list2):\n",
    "        if list1[i] <= list2[j]:\n",
    "            sortedlist.append(list1[i])\n",
    "            i=i+1\n",
    "        else:\n",
    "            sortedlist.append(list2[j])\n",
    "            j=j+1\n",
    "        \n",
    "    while i < len(list1):\n",
    "        sortedlist.append(list1[i])\n",
    "        i=i+1\n",
    "    \n",
    "    while j < len(list2):\n",
    "        sortedlist.append(list2[j])\n",
    "        j=j+1\n",
    "    return sortedlist\n",
    "                \n",
    "lists = [ [20,2,55,66,8,10,12,46], [9,10,5,9,8,5,3,5,84,20],[1,2,3,7,0,6,7],[] ]\n",
    "\n",
    "for x in lists:\n",
    "    print(merge_list(x))"
   ]
  }
 ],
 "metadata": {
  "kernelspec": {
   "display_name": "Python 3",
   "language": "python",
   "name": "python3"
  },
  "language_info": {
   "codemirror_mode": {
    "name": "ipython",
    "version": 3
   },
   "file_extension": ".py",
   "mimetype": "text/x-python",
   "name": "python",
   "nbconvert_exporter": "python",
   "pygments_lexer": "ipython3",
   "version": "3.7.2"
  }
 },
 "nbformat": 4,
 "nbformat_minor": 4
}
