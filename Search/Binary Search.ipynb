{
 "cells": [
  {
   "cell_type": "code",
   "execution_count": 1,
   "metadata": {},
   "outputs": [],
   "source": [
    "def BinarySearch(start,end,mylists,search):\n",
    "    mid =int((start + end)/2)\n",
    "    if start < end:\n",
    "        if search == mylists[mid]:\n",
    "            return mid+1;\n",
    "        elif mylists[mid] < search:\n",
    "            return BinarySearch(mid+1,end,mylists,search)\n",
    "        else:\n",
    "            return BinarySearch(start,mid-1,mylists,search)"
   ]
  },
  {
   "cell_type": "code",
   "execution_count": 3,
   "metadata": {},
   "outputs": [
    {
     "name": "stdout",
     "output_type": "stream",
     "text": [
      "Enter the no. of Elements\n",
      "5\n",
      "1 value \t68\n",
      "2 value \t97\n",
      "3 value \t15\n",
      "4 value \t97\n",
      "5 value \t64\n",
      "Enter the Value to be Searched \n",
      "15\n",
      "15 is found\n"
     ]
    }
   ],
   "source": [
    "x = int(input(\"Enter the no. of Elements\\n\"))\n",
    "mylists = []\n",
    "flag = 0\n",
    "\n",
    "for i in range(0,x):\n",
    "    mylists.append(int(input(\"{} value \\t\".format(i+1))))\n",
    "\n",
    "search = int(input(\"Enter the Value to be Searched \\n\"))\n",
    "mylists.sort()\n",
    "\n",
    "position = BinarySearch(0,len(mylists),mylists,search)\n",
    "print(\"{} is found\".format(search))"
   ]
  },
  {
   "cell_type": "code",
   "execution_count": null,
   "metadata": {},
   "outputs": [],
   "source": []
  }
 ],
 "metadata": {
  "kernelspec": {
   "display_name": "Python 3",
   "language": "python",
   "name": "python3"
  },
  "language_info": {
   "codemirror_mode": {
    "name": "ipython",
    "version": 3
   },
   "file_extension": ".py",
   "mimetype": "text/x-python",
   "name": "python",
   "nbconvert_exporter": "python",
   "pygments_lexer": "ipython3",
   "version": "3.7.2"
  }
 },
 "nbformat": 4,
 "nbformat_minor": 4
}
