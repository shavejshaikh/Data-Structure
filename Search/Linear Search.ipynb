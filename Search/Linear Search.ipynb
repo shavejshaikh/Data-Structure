{
 "cells": [
  {
   "cell_type": "markdown",
   "metadata": {},
   "source": [
    "## Linear Search"
   ]
  },
  {
   "cell_type": "code",
   "execution_count": 14,
   "metadata": {},
   "outputs": [
    {
     "name": "stdout",
     "output_type": "stream",
     "text": [
      "Enter the no. of Elements\n",
      "5\n",
      "1 value \t25\n",
      "2 value \t65\n",
      "3 value \t40\n",
      "4 value \t30\n",
      "5 value \t10\n",
      "\n",
      "Enter the Value to be Searched \n",
      "25\n",
      "25 is found\n"
     ]
    }
   ],
   "source": [
    "def linearSearch(l,s):\n",
    "    flag = 0\n",
    "    for i in l:\n",
    "        if i == s:\n",
    "            flag = 1\n",
    "            break;\n",
    "        else:\n",
    "            flag = 0    \n",
    "    return flag\n",
    "\n",
    "x = int(input(\"Enter the no. of Elements\\n\"))\n",
    "l = []\n",
    "\n",
    "for i in range(0,x):\n",
    "    l.append(int(input(\"{} value \\t\".format(i+1))))\n",
    "\n",
    "s = int(input(\"\\nEnter the Value to be Searched \\n\"))\n",
    "flag = linearSearch(l,s)\n",
    "\n",
    "if flag == 1:\n",
    "    print(\"{} is found\".format(s))\n",
    "else:\n",
    "    print(\"{} is not found\".format(s))"
   ]
  }
 ],
 "metadata": {
  "kernelspec": {
   "display_name": "Python 3",
   "language": "python",
   "name": "python3"
  },
  "language_info": {
   "codemirror_mode": {
    "name": "ipython",
    "version": 3
   },
   "file_extension": ".py",
   "mimetype": "text/x-python",
   "name": "python",
   "nbconvert_exporter": "python",
   "pygments_lexer": "ipython3",
   "version": "3.7.2"
  }
 },
 "nbformat": 4,
 "nbformat_minor": 4
}
