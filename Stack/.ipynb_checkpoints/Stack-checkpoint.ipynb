{
 "cells": [
  {
   "cell_type": "code",
   "execution_count": 3,
   "metadata": {},
   "outputs": [
    {
     "name": "stdout",
     "output_type": "stream",
     "text": [
      "Enter no. of Elements:\t5\n",
      "1-->12\n",
      "2-->68\n",
      "3-->74\n",
      "4-->95\n",
      "5-->102\n",
      "[12, 68, 74, 95, 102]\n"
     ]
    }
   ],
   "source": [
    "n = int(input(\"Enter no of Elements:\\t\"))\n",
    "\n",
    "mylists = []\n",
    "\n",
    "for i in range(n):\n",
    "    mylists.append(int(input(\"{}-->\".format(i+1))))\n",
    "print(mylists)\n",
    "\n"
   ]
  },
  {
   "cell_type": "code",
   "execution_count": 5,
   "metadata": {},
   "outputs": [
    {
     "name": "stdout",
     "output_type": "stream",
     "text": [
      "2.5\n"
     ]
    }
   ],
   "source": [
    "class MathUtils:\n",
    "    @staticmethod\n",
    "    def average(a, b):\n",
    "#         print(a+b/2)\n",
    "        return a + b / 2\n",
    "    \n",
    "print(MathUtils.average(2, 1))"
   ]
  },
  {
   "cell_type": "code",
   "execution_count": 8,
   "metadata": {},
   "outputs": [
    {
     "name": "stdout",
     "output_type": "stream",
     "text": [
      "[['vanilla', 'chocolate sauce'], ['chocolate', 'chocolate sauce']]\n",
      "None\n"
     ]
    }
   ],
   "source": [
    "class IceCreamMachine:\n",
    "    \n",
    "    def __init__(self, ingredients, toppings):\n",
    "        self.ingredients = ingredients\n",
    "        self.toppings = toppings\n",
    "        \n",
    "    def scoops(self):\n",
    "        scop = []\n",
    "        for i in self.ingredients:\n",
    "            for j in self.toppings:\n",
    "                scop.append([i,j])\n",
    "        print(scop)\n",
    "        pass\n",
    "\n",
    "if __name__ == \"__main__\":\n",
    "    machine = IceCreamMachine([\"vanilla\", \"chocolate\"], [\"chocolate sauce\"])\n",
    "    print(machine.scoops()) #should print[['vanilla', 'chocolate sauce'], ['chocolate', 'chocolate sauce']]"
   ]
  },
  {
   "cell_type": "code",
   "execution_count": 24,
   "metadata": {},
   "outputs": [
    {
     "name": "stdout",
     "output_type": "stream",
     "text": [
      "{'Randy': ['Input.txt', 'Output.txt'], 'Stan': ['Code.py']}\n",
      "None\n"
     ]
    }
   ],
   "source": [
    "def group_by_owners(files):\n",
    "    file = {}\n",
    "#     keys_ = list(files.keys())\n",
    "#     values_ = list(files.values())\n",
    "#     print(keys_)\n",
    "#     print(values_)\n",
    "    for keys,values in files.items():\n",
    "#         print(keys,values)\n",
    "        if values not in file:\n",
    "            file[values] = []\n",
    "        file[values].append(keys)\n",
    "    print(file)\n",
    "        \n",
    "    return None\n",
    "\n",
    "if __name__ == \"__main__\":    \n",
    "    files = {\n",
    "        'Input.txt': 'Randy',\n",
    "        'Code.py': 'Stan',\n",
    "        'Output.txt': 'Randy'\n",
    "    }   \n",
    "    print(group_by_owners(files))"
   ]
  },
  {
   "cell_type": "code",
   "execution_count": 29,
   "metadata": {},
   "outputs": [
    {
     "name": "stdout",
     "output_type": "stream",
     "text": [
      "['Ava', 'Olivia', 'Sophia', 'Emma']\n",
      "None\n"
     ]
    }
   ],
   "source": [
    "def unique_names(names1, names2):\n",
    "    unique =  []\n",
    "    for i in names1:\n",
    "        for j in names2:\n",
    "            if i not in unique:\n",
    "                unique.append(i)\n",
    "            if j not in unique:\n",
    "                unique.append(j)\n",
    "    return unique\n",
    "\n",
    "if __name__ == \"__main__\":\n",
    "    names1 = [\"Ava\", \"Emma\", \"Olivia\"]\n",
    "    names2 = [\"Olivia\", \"Sophia\", \"Emma\"]\n",
    "    print(unique_names(names1, names2)) # should print Ava, Emma, Olivia, Sophia"
   ]
  },
  {
   "cell_type": "code",
   "execution_count": 36,
   "metadata": {},
   "outputs": [
    {
     "name": "stdout",
     "output_type": "stream",
     "text": [
      "{'Randy': ['Input.txt', 'Output.txt'], 'Stan': ['Code.py']}\n"
     ]
    }
   ],
   "source": [
    "def group_by_owners(files):\n",
    "    file = {}\n",
    "    for keys,values in files.items():\n",
    "        if values not in file:\n",
    "            file[values] =[]\n",
    "        file[values].append(keys)\n",
    "    return file\n",
    "\n",
    "if __name__ == \"__main__\":    \n",
    "    files = {\n",
    "        'Input.txt': 'Randy',\n",
    "        'Code.py': 'Stan',\n",
    "        'Output.txt': 'Randy'\n",
    "    }   \n",
    "    print(group_by_owners(files))"
   ]
  },
  {
   "cell_type": "code",
   "execution_count": 46,
   "metadata": {},
   "outputs": [
    {
     "name": "stdout",
     "output_type": "stream",
     "text": [
      "True\n"
     ]
    }
   ],
   "source": [
    "class Song:\n",
    "    def __init__(self, name):\n",
    "        self.name = name\n",
    "        self.next = None\n",
    "\n",
    "    def next_song(self, song):\n",
    "        self.next = song \n",
    "    \n",
    "    def is_repeating_playlist(self):\n",
    "        lists = []\n",
    "        lists.append(self.name)\n",
    "        if self.name in lists:\n",
    "            return True\n",
    "        else:\n",
    "            return False\n",
    "        return None\n",
    "            \n",
    "first = Song(\"Hello\")\n",
    "second = Song(\"Eye of the tiger\")\n",
    "    \n",
    "first.next_song(second)\n",
    "second.next_song(first)\n",
    "    \n",
    "print(first.is_repeating_playlist())"
   ]
  },
  {
   "cell_type": "code",
   "execution_count": 53,
   "metadata": {},
   "outputs": [
    {
     "name": "stdout",
     "output_type": "stream",
     "text": [
      "(3, 7)\n"
     ]
    }
   ],
   "source": [
    "def find_two_sum(numbers, target_sum):\n",
    "    value =[]\n",
    "    for i in range(0,len(numbers)-1):\n",
    "        for j in range(i+1,len(numbers)):\n",
    "            if numbers[i]+numbers[j] == target_sum:\n",
    "                value.append((numbers[i],numbers[j]))\n",
    "#     print()\n",
    "    \"\"\"\n",
    "    :param numbers: (list of ints) The list of numbers.\n",
    "    :param target_sum: (int) The required target sum.\n",
    "    :returns: (a tuple of 2 ints) The indices of the two elements whose sum is equal to target_sum\n",
    "    \"\"\"\n",
    "    return tuple(value[0])\n",
    "\n",
    "if __name__ == \"__main__\":\n",
    "    print(find_two_sum([3, 1, 5, 7, 5, 9], 10))"
   ]
  },
  {
   "cell_type": "code",
   "execution_count": 14,
   "metadata": {},
   "outputs": [
    {
     "name": "stdout",
     "output_type": "stream",
     "text": [
      "3\n",
      "False\n"
     ]
    }
   ],
   "source": [
    "def john_mary(str):\n",
    "    str=str.split(\"&\")\n",
    "    print(len(str))\n",
    "    john =0\n",
    "    mary = 0\n",
    "    if \"John\" in str:\n",
    "        john = john+1\n",
    "    if \"Mary\" in str:\n",
    "        mary=mary +1\n",
    "    if john == mary:\n",
    "        return True\n",
    "    return False\n",
    "\n",
    "print(john_mary('John&mary&John'))"
   ]
  },
  {
   "cell_type": "code",
   "execution_count": 17,
   "metadata": {},
   "outputs": [
    {
     "name": "stdout",
     "output_type": "stream",
     "text": [
      "['H', 'e', 'l', 'l', 'o', 'W', 'o', 'r', 'l', 'd']\n"
     ]
    }
   ],
   "source": [
    "input = \"Hello, World!\"\n",
    "x=[chr for chr in input if chr.isalpha()]\n",
    "print(x)\n",
    "lst = []\n",
    "for chr in input:\n",
    "    if chr.isalpha():\n",
    "        lst.append*chr()"
   ]
  },
  {
   "cell_type": "code",
   "execution_count": 18,
   "metadata": {},
   "outputs": [
    {
     "name": "stdout",
     "output_type": "stream",
     "text": [
      "0.5\n"
     ]
    }
   ],
   "source": [
    "import math\n",
    "\n",
    "def add_patch(a,b):\n",
    "    # Write the code that goes here\n",
    "    return math.log(a,b)\n",
    "        \n",
    "# Example case.\n",
    "print(add_patch(10,100))      \n",
    "# print(math.log100(10))"
   ]
  },
  {
   "cell_type": "code",
   "execution_count": 47,
   "metadata": {},
   "outputs": [
    {
     "name": "stdout",
     "output_type": "stream",
     "text": [
      "0\n",
      "Mai\n",
      "defaultdict(<class 'int'>, {'John': 0})\n"
     ]
    }
   ],
   "source": [
    "from collections import defaultdict\n",
    "\n",
    "class RewardPoints:\n",
    "    def __init__(self):\n",
    "        self.customers = defaultdict(int)\n",
    "        \n",
    "    def earn_points(self, customer_name, points):\n",
    "        print(self.customers[customer_name])\n",
    "#         print(\"Eart\")\n",
    "        if self.customers[customer_name]== 0:\n",
    "            print(\"Mai\")\n",
    "            self.customers[customer_name] += 0\n",
    "        else:\n",
    "#             print(\"EL no\")\n",
    "            self.customers[customer_name] += points\n",
    "            self.customers[customer_name] += 500\n",
    "        print(self.customers)\n",
    "    \n",
    "    def spend_points(self, customer_name, points):\n",
    "        print(self.customers[0])\n",
    "        if self.customers[0]== 0:\n",
    "            self.customers[customer_name] = 0\n",
    "        else:\n",
    "            self.customers[customer_name] -= points\n",
    "        print(self.customers)\n",
    "        return self.customers[customer_name]\n",
    "         \n",
    "rewardPoints = RewardPoints()\n",
    "rewardPoints.earn_points(\"John\",520)\n",
    "# print(rewardPoints.spend_points(\"\",200))"
   ]
  },
  {
   "cell_type": "code",
   "execution_count": 54,
   "metadata": {},
   "outputs": [
    {
     "name": "stdout",
     "output_type": "stream",
     "text": [
      "314.1592653589793\n",
      "3.141592653589793\n",
      "28.539816339744828\n",
      "285.6194490192345\n",
      "(28.539816339744828, 285.6194490192345)\n"
     ]
    }
   ],
   "source": [
    "import math\n",
    "def areas(r, a):\n",
    "    sqr_r = r**2\n",
    "    areacircle = math.pi*sqr_r\n",
    "    print(areacircle)\n",
    "    \n",
    "    print(math.pi)\n",
    "    inside_A = ((a*math.pi)/180)\n",
    "    segmentarea = (sqr_r/2) * (inside_A - math.sin(inside_A))\n",
    "    print(segmentarea)\n",
    "    \n",
    "    outsides = areacircle -segmentarea\n",
    "    print(outsides)\n",
    "    \"\"\"\n",
    "    :param r: (float) The radius of the circle.\n",
    "    :param a: (float) The angle of the segment.\n",
    "    :returns: (list) (A list of two elements containing the area inside, and area outside the circle, in that order.)\n",
    "    \"\"\"\n",
    "    return segmentarea,outsides\n",
    "\n",
    "print(areas(10, 90));"
   ]
  },
  {
   "cell_type": "code",
   "execution_count": 87,
   "metadata": {},
   "outputs": [
    {
     "name": "stdout",
     "output_type": "stream",
     "text": [
      "06-04-1972\n",
      "Blue\n",
      "Black\n",
      "<class '__main__.Student'>\n",
      "None\n"
     ]
    }
   ],
   "source": [
    "from collections import namedtuple\n",
    "\n",
    "def merge(*records):\n",
    "    \"\"\"\n",
    "    :param records: (varargs list of namedtuple) The patient details.\n",
    "    :returns: (namedtuple) named Patient, containing details from all records, in entry order.\n",
    "    \"\"\" \n",
    "#     Patient = ()\n",
    "#     print(records[0][0])\n",
    "    date_of_birth=records[0][0]\n",
    "    print(date_of_birth)\n",
    "    eye_color=records[1][0]\n",
    "    print(eye_color)\n",
    "    hair_color=records[1][1]\n",
    "    print(hair_color)\n",
    "    Patient = namedtuple('Patient',['date_of_birth','eye_color','hair_color']) \n",
    "#                        \"eye_color\"=eye_color)\n",
    "    print(Patient)\n",
    "\n",
    "    return None\n",
    "    \n",
    "PersonalDetails = namedtuple('PersonalDetails', ['date_of_birth'])\n",
    "personal_details = PersonalDetails(date_of_birth = '06-04-1972')\n",
    "                                   \n",
    "Complexion = namedtuple('Complexion', ['eye_color', 'hair_color'])\n",
    "complexion = Complexion(eye_color = 'Blue', hair_color = 'Black')\n",
    "  \n",
    "print(merge(personal_details, complexion))"
   ]
  },
  {
   "cell_type": "code",
   "execution_count": null,
   "metadata": {},
   "outputs": [],
   "source": []
  }
 ],
 "metadata": {
  "kernelspec": {
   "display_name": "Python 3",
   "language": "python",
   "name": "python3"
  },
  "language_info": {
   "codemirror_mode": {
    "name": "ipython",
    "version": 3
   },
   "file_extension": ".py",
   "mimetype": "text/x-python",
   "name": "python",
   "nbconvert_exporter": "python",
   "pygments_lexer": "ipython3",
   "version": "3.7.2"
  }
 },
 "nbformat": 4,
 "nbformat_minor": 4
}
