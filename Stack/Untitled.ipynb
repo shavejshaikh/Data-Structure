{
 "cells": [
  {
   "cell_type": "markdown",
   "metadata": {},
   "source": [
    "### 1. Problem Statement – Rhea Pandey’s teacher has asked her to prepare well for the lesson on seasons. When her teacher tells a month, she needs to say the season corresponding to that month. Write a program to solve the above task.\n",
    "\n",
    "    Spring – March to May,\n",
    "    Summer – June to August,\n",
    "    Autumn – September to November and,\n",
    "    Winter – December to February.\n",
    "\n",
    "Month should be in the range 1 to 12.  If not the output should be “Invalid month”."
   ]
  },
  {
   "cell_type": "code",
   "execution_count": 3,
   "metadata": {},
   "outputs": [
    {
     "name": "stdout",
     "output_type": "stream",
     "text": [
      "Enter the month:\t1\n",
      "Winter\n"
     ]
    }
   ],
   "source": [
    "m = int(input(\"Enter the month:\\t\"))\n",
    "\n",
    "if m == 12 or m == 1 or m == 2:\n",
    "    print(\"Winter\")\n",
    "\n",
    "elif m == 11 or m == 10 or m == 9:\n",
    "    print(\"Autumn\")\n",
    "\n",
    "elif m == 8 or m == 7 or m == 6:\n",
    "    print(\"Summer\")\n",
    "\n",
    "elif m == 5 or m == 4 or m == 1:\n",
    "    print(\"Spring\")\n",
    "\n",
    "else:\n",
    "    print(\"Invalid Month\")"
   ]
  },
  {
   "cell_type": "markdown",
   "metadata": {},
   "source": [
    "### 2. Problem Statement – Goutam and  Tanul plays  by  telling numbers.  Goutam says a number to Tanul.  Tanul should first reverse the number and check if it is same as the original.  If yes,  Tanul should say “Palindrome”.  If not, he should say “Not a Palindrome”.  If the number is negative, print “Invalid Input”.  Help Tanul by writing a program."
   ]
  },
  {
   "cell_type": "code",
   "execution_count": 18,
   "metadata": {},
   "outputs": [
    {
     "name": "stdout",
     "output_type": "stream",
     "text": [
      "Enter the String:\t-158\n",
      "Invalid Input\n"
     ]
    }
   ],
   "source": [
    "x = input(\"Enter the String:\\t\")\n",
    "x1 = x[::-1]\n",
    "\n",
    "if int(x)<0:\n",
    "    print(\"Invalid Input\")\n",
    "elif x == x1:\n",
    "    print(\"Palindrome\")\n",
    "else:\n",
    "    print(\"Not a Palindrome\")"
   ]
  },
  {
   "cell_type": "markdown",
   "metadata": {},
   "source": [
    "### 3. Problem Statement – Bela  teaches her daughter  to find the factors of a given number.  When she provides a number to her daughter, she should tell the factors of that number.  Help her to do this, by writing a program.  Write a class FindFactor.java and write the main method in it.\n",
    "Note : \n",
    "\n",
    "    If the input provided is negative, ignore the sign and provide the output. If the input is zero\n",
    "    If the input is zero the output should be “No Factors”."
   ]
  },
  {
   "cell_type": "code",
   "execution_count": 41,
   "metadata": {},
   "outputs": [
    {
     "name": "stdout",
     "output_type": "stream",
     "text": [
      "Enter Number-1869\n",
      "[1, 3, 7, 21, 89, 267, 623, 1869]\n"
     ]
    }
   ],
   "source": [
    "x= abs(int(input(\"Enter Number\")))\n",
    "\n",
    "if x == 0:\n",
    "    print(\"No factor\")\n",
    "\n",
    "lists = []\n",
    "for i in range(1,x+1):\n",
    "    if x % i == 0:\n",
    "        lists.append(int(x / i))\n",
    "print(lists[::-1])"
   ]
  },
  {
   "cell_type": "markdown",
   "metadata": {},
   "source": [
    "### 4. Problem Statement – Raj wants to know the maximum marks scored by him in each semester. The mark should be between 0 to 100 ,if goes beyond the range display “You have entered invalid mark.” "
   ]
  },
  {
   "cell_type": "code",
   "execution_count": 60,
   "metadata": {},
   "outputs": [
    {
     "name": "stdout",
     "output_type": "stream",
     "text": [
      "Enter no of semester2\n",
      "Enter the no of subjects in sem 1\n",
      "2\n",
      "Enter the no of subjects in sem 2\n",
      "2\n",
      "Marks obtained in sem  2\n",
      "10\n",
      "20\n",
      "Marks obtained in sem  2\n",
      "55\n",
      "70\n",
      "[[10, 20], [55, 70]]\n"
     ]
    }
   ],
   "source": [
    "No_sem = int(input(\"Enter no of semester\"))\n",
    "\n",
    "mylists=[]\n",
    "for i in range(No_sem):\n",
    "    print(\"Enter the no of subjects in sem\",i+1)\n",
    "    mylists.append(list(range(int( input() ))))\n",
    "\n",
    "for j in range(No_sem):\n",
    "    print(\"Marks obtained in sem \",i+1)\n",
    "    for k in range(len(mylists[j])):\n",
    "        mylists[j][k] = int(input())\n",
    "        if not mylists[j][k] in range(0,101):\n",
    "            print(\"You have Entered Invalid Marks\")\n",
    "            exit()    \n",
    "\n",
    "count =1\n",
    "for i in mylists:\n",
    "    print(\"Maximum marks in \", count,\" sem:\",max(i))\n",
    "    count +=1"
   ]
  },
  {
   "cell_type": "code",
   "execution_count": 81,
   "metadata": {},
   "outputs": [
    {
     "name": "stdout",
     "output_type": "stream",
     "text": [
      "Enter the car no:1234\n",
      "Lucky Number\n"
     ]
    }
   ],
   "source": [
    "x = input(\"Enter the car no:\")\n",
    "sum = 0\n",
    "for i in x:\n",
    "    sum +=int(i)\n",
    "if int(x) < 1000 or int(x) > 9999:\n",
    "    print(\"{} is not a valid car number\".format(x))\n",
    "\n",
    "elif sum % 3 == 0 or sum % 5 == 0 or sum % 7 == 0:\n",
    "    print(\"Lucky Number\")\n",
    "else:\n",
    "    print(\"Sorry its not my lucky number\")"
   ]
  },
  {
   "cell_type": "markdown",
   "metadata": {},
   "source": [
    "### 5. Vohra went to a movie with his friends in a Wave theatre and during  break time he bought pizzas, puffs and cool drinks. Consider   the following prices : \n",
    "\n",
    "   Rs.100/pizza\n",
    "   Rs.20/puffs\n",
    "   Rs.10/cooldrink\n",
    "\n",
    "Generate a bill for What Vohra has bought."
   ]
  },
  {
   "cell_type": "code",
   "execution_count": 83,
   "metadata": {},
   "outputs": [
    {
     "name": "stdout",
     "output_type": "stream",
     "text": [
      "Enter the no of pizzas bought:10\n",
      "Enter the no of puffs bought:12\n",
      "Enter the no of drinks bought:5\n",
      "Bill Details\n",
      "No of pizzas:10\n",
      "No of puffs:12\n",
      "No of cooldrinks:5\n",
      "Total price=1290\n",
      "ENJOY THE SHOW!!!\n"
     ]
    }
   ],
   "source": [
    "pizza = int(input(\"Enter the no of pizzas bought:\"))\n",
    "puffs = int(input(\"Enter the no of puffs bought:\"))\n",
    "drinks= int(input(\"Enter the no of cool drinks bought:\"))\n",
    "\n",
    "print(\"Bill Details\")\n",
    "print(\"No of pizzas:{}\".format(pizza))\n",
    "\n",
    "print(\"No of puffs:{}\".format(puffs))\n",
    "\n",
    "print(\"No of cooldrinks:{}\".format(drinks))\n",
    "\n",
    "total = (pizza * 100) + (puffs * 20) + (drinks * 10)\n",
    "print(\"Total price={}\".format(total))\n",
    "\n",
    "print(\"ENJOY THE SHOW!!!\")"
   ]
  },
  {
   "cell_type": "markdown",
   "metadata": {},
   "source": [
    "### 6. Ritik wants a magic board, which displays a character for a corresponding number for his science project. Help him to develop such an application.\n",
    "For example when the digits 65,66,67,68 are entered, the alphabet ABCD are to be displayed.\n",
    "[Assume the number of inputs should be always 4 ]"
   ]
  },
  {
   "cell_type": "code",
   "execution_count": 105,
   "metadata": {},
   "outputs": [
    {
     "name": "stdout",
     "output_type": "stream",
     "text": [
      "Enter the digits:\n",
      "115\n",
      "116\n",
      "101\n",
      "112\n",
      "115-s\n",
      "116-t\n",
      "101-e\n",
      "112-p\n"
     ]
    }
   ],
   "source": [
    "mylists =[]\n",
    "print(\"Enter the digits:\")\n",
    "for i in range(4):\n",
    "    mylists.append(int(input()))\n",
    "\n",
    "for i in mylists:\n",
    "    print(str(i)+\"-\"+chr(i))"
   ]
  },
  {
   "cell_type": "markdown",
   "metadata": {},
   "source": [
    "### 7. To speed up his composition of generating unpredictable rhythms, Blue Bandit wants the list of prime numbers available in a range of numbers.Can you help him out?\n",
    "\n",
    "Write a java program to print all prime numbers in the interval [a,b] (a and b, both inclusive).\n",
    "\n",
    "Note\n",
    "\n",
    "    Input 1 should be lesser than Input 2. Both the inputs should be positive. \n",
    "    Range must always be greater than zero.\n",
    "    If any of the condition mentioned above fails, then display “Provide valid input”\n",
    "    Use a minimum of one for loop and one while loop"
   ]
  },
  {
   "cell_type": "code",
   "execution_count": 123,
   "metadata": {},
   "outputs": [
    {
     "name": "stdout",
     "output_type": "stream",
     "text": [
      "2 3 5 7 11 13 "
     ]
    }
   ],
   "source": [
    "a = int(input(\"Enter Input 1:\\t\"))\n",
    "b = int(input(\"Enter Input 2:\\t\"))\n",
    "\n",
    "if a >= b or a <=0 or b <=0: \n",
    "    print(\"Provide Valid Input\")\n",
    "else:\n",
    "    while a <= b:\n",
    "        if a == 2:\n",
    "            print(a,end=\" \")\n",
    "        elif a== 1:\n",
    "            a+=1\n",
    "            continue\n",
    "        else:\n",
    "            flag = 0\n",
    "            for i in range(2,a//2+1):\n",
    "                if a%i == 0:\n",
    "                    flag = 1\n",
    "                    break\n",
    "            if flag == 0:\n",
    "                print(a,end=\" \")\n",
    "        a+=1       \n",
    "                "
   ]
  },
  {
   "cell_type": "markdown",
   "metadata": {},
   "source": [
    "### 8. XYZ Technologies is in the process of increment the salary of the employees.  This increment is done based on their salary and their performance appraisal rating.\n",
    "\n",
    "    If the appraisal rating is between 1 and 3, the increment is 10% of the salary.\n",
    "    If the appraisal rating is between 3.1 and 4, the increment is  25% of the salary.\n",
    "    If the appraisal rating is between 4.1 and 5, the increment is  30% of the salary.\n",
    "\n",
    "Help them to do this,  by writing a program that displays the incremented salary. Write a class “IncrementCalculation.java” and write the main method in it.\n",
    "\n",
    "Note   :   If either the salary is 0 or negative  (or) if the appraisal rating is not in the range 1 to 5 (inclusive), then the output should be “Invalid Input”."
   ]
  },
  {
   "cell_type": "code",
   "execution_count": 140,
   "metadata": {},
   "outputs": [
    {
     "name": "stdout",
     "output_type": "stream",
     "text": [
      "Enter the Salary\t0\n",
      "Enter the Performance appraisal rating\t5\n"
     ]
    }
   ],
   "source": [
    "salary  = float(input(\"Enter the Salary\\t\"))\n",
    "perform = float(input(\"Enter the Performance appraisal rating\\t\"))\n",
    "\n",
    "if salary <= 0:\n",
    "    print(\"Invalid Input\")\n",
    "elif 1 <= perform >= 1 or perform <=3:\n",
    "    salary = salary + ((10 * salary)/100)\n",
    "    print(salary)\n",
    "elif 3 < perform or perform <= 4:\n",
    "    salary = salary + ((25 * salary)/100)\n",
    "    print(salary)\n",
    "elif 4 < perform or perform <= 5:\n",
    "    salary = salary + ((30 * salary)/100)\n",
    "    print(salary)\n",
    "else:\n",
    "    print(\"Invalid Input\")\n"
   ]
  }
 ],
 "metadata": {
  "kernelspec": {
   "display_name": "Python 3",
   "language": "python",
   "name": "python3"
  },
  "language_info": {
   "codemirror_mode": {
    "name": "ipython",
    "version": 3
   },
   "file_extension": ".py",
   "mimetype": "text/x-python",
   "name": "python",
   "nbconvert_exporter": "python",
   "pygments_lexer": "ipython3",
   "version": "3.7.2"
  }
 },
 "nbformat": 4,
 "nbformat_minor": 4
}
